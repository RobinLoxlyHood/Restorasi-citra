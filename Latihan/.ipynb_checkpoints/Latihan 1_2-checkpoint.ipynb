{
 "cells": [
  {
   "cell_type": "code",
   "execution_count": 1,
   "id": "06abbc4f",
   "metadata": {},
   "outputs": [],
   "source": [
    "import cv2 as cv\n",
    "import numpy as np\n",
    "from skimage.util import random_noise"
   ]
  },
  {
   "cell_type": "code",
   "execution_count": 2,
   "id": "8aa6871f",
   "metadata": {},
   "outputs": [],
   "source": [
    "# Load the image\n",
    "img = cv.imread(\"monas.jpg\")\n",
    "# Add salt-and-pepper noise to the image.\n",
    "noise_img_snp = random_noise(img, mode='s&p',amount=0.05)\n",
    "# Add gaussian noise to the image.\n",
    "noise_img_gaussian = random_noise(img, mode='gaussian', mean=0, var=0.01)\n",
    "# Add speckle noise to the image.\n",
    "noise_img_speckle = random_noise(img, mode='speckle')"
   ]
  },
  {
   "cell_type": "code",
   "execution_count": 4,
   "id": "38cbc954",
   "metadata": {},
   "outputs": [],
   "source": [
    "# The above function returns a floating-point image on the range [0, 1], thus we changed it to 'uint8' and from [0,255]\n",
    "noise_img_snp = np.array(255*noise_img_snp, dtype = 'uint8')\n",
    "noise_img_gaussian = np.array(255*noise_img_gaussian, dtype = 'uint8')\n",
    "noise_img_speckle = np.array(255*noise_img_speckle, dtype = 'uint8')\n",
    "# image reduction\n",
    "kernel_3_3 = np.ones((3,3),np.float32)/9"
   ]
  },
  {
   "cell_type": "code",
   "execution_count": 5,
   "id": "9d0355e7",
   "metadata": {},
   "outputs": [],
   "source": [
    "img_snp_average_filter = cv.filter2D(noise_img_snp,cv.CV_8U,kernel_3_3,(-1,-1), delta = 0,\n",
    "borderType = cv.BORDER_DEFAULT)\n",
    "img_snp_median_median = cv.medianBlur(noise_img_snp,3)\n",
    "img_gaussian_average_filter = cv.filter2D(noise_img_gaussian,cv.CV_8U,kernel_3_3,(-1,-1), delta = 0,\n",
    "borderType = cv.BORDER_DEFAULT)\n",
    "img_gaussian_median_median = cv.medianBlur(noise_img_gaussian,3)\n",
    "img_speckle_average_filter = cv.filter2D(noise_img_speckle,cv.CV_8U,kernel_3_3,(-1,-1), delta = 0,\n",
    "borderType = cv.BORDER_DEFAULT)\n",
    "img_speckle_median_median = cv.medianBlur(noise_img_speckle,3)"
   ]
  },
  {
   "cell_type": "code",
   "execution_count": 6,
   "id": "f0453c4a",
   "metadata": {},
   "outputs": [],
   "source": [
    "# Display the noise image\n",
    "cv.imshow('img snp',noise_img_snp)\n",
    "cv.imshow('img gaussian',noise_img_gaussian)\n",
    "cv.imshow('img speckle',noise_img_speckle)"
   ]
  },
  {
   "cell_type": "code",
   "execution_count": 7,
   "id": "3b38f2fc",
   "metadata": {},
   "outputs": [],
   "source": [
    "# Display the image reduction\n",
    "cv.imshow('img s&p reduction with average filter', img_snp_average_filter)\n",
    "cv.imshow('img s&p reduction with median filter', img_snp_median_median)\n",
    "cv.imshow('img gaussian reduction with average filter', img_gaussian_average_filter)\n",
    "cv.imshow('img gaussian reduction with median filter', img_gaussian_median_median)\n",
    "cv.imshow('img speckle reduction with average filter', img_speckle_average_filter)\n",
    "cv.imshow('img speckle reduction with median filter', img_speckle_median_median)\n",
    "cv.waitKey(0)\n",
    "cv.destroyAllWindows()"
   ]
  }
 ],
 "metadata": {
  "kernelspec": {
   "display_name": "imageprocessing",
   "language": "python",
   "name": "imageprocessing"
  },
  "language_info": {
   "codemirror_mode": {
    "name": "ipython",
    "version": 3
   },
   "file_extension": ".py",
   "mimetype": "text/x-python",
   "name": "python",
   "nbconvert_exporter": "python",
   "pygments_lexer": "ipython3",
   "version": "3.7.5"
  }
 },
 "nbformat": 4,
 "nbformat_minor": 5
}
