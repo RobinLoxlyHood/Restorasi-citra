{
 "cells": [
  {
   "cell_type": "code",
   "execution_count": 1,
   "id": "a54e3410",
   "metadata": {},
   "outputs": [],
   "source": [
    "import cv2 as cv\n",
    "import numpy as np\n",
    "from skimage.util import random_noise"
   ]
  },
  {
   "cell_type": "code",
   "execution_count": 2,
   "id": "48971a4a",
   "metadata": {},
   "outputs": [],
   "source": [
    "# Load the image\n",
    "img = cv.imread(\"upn.jpg\")\n",
    "# Add salt-and-pepper noise to the image.\n",
    "noise_img_snp = random_noise(img, mode='s&p',amount=0.2)\n",
    "# Add gaussian noise to the image.\n",
    "noise_img_gaussian = random_noise(img, mode='gaussian', mean=0, var=0.01)\n",
    "# Add speckle noise to the image.\n",
    "noise_img_speckle = random_noise(img, mode='speckle')"
   ]
  },
  {
   "cell_type": "code",
   "execution_count": 4,
   "id": "14b658c0",
   "metadata": {},
   "outputs": [],
   "source": [
    "# The above function returns a floating-point image on the range [0, 1], thus we changed it to 'uint8' and from [0,255]\n",
    "noise_img_snp = np.array(255*noise_img_snp, dtype = 'uint8')\n",
    "noise_img_gaussian = np.array(255*noise_img_gaussian, dtype = 'uint8')\n",
    "noise_img_speckle = np.array(255*noise_img_speckle, dtype = 'uint8')"
   ]
  },
  {
   "cell_type": "code",
   "execution_count": 5,
   "id": "0e80a5af",
   "metadata": {},
   "outputs": [],
   "source": [
    "# Display the noise image\n",
    "cv.imshow('img snp',noise_img_snp)\n",
    "cv.imshow('img gaussian',noise_img_gaussian)\n",
    "cv.imshow('img speckle',noise_img_speckle)\n",
    "cv.waitKey(0)\n",
    "cv.destroyAllWindows()"
   ]
  }
 ],
 "metadata": {
  "kernelspec": {
   "display_name": "imageprocessing",
   "language": "python",
   "name": "imageprocessing"
  },
  "language_info": {
   "codemirror_mode": {
    "name": "ipython",
    "version": 3
   },
   "file_extension": ".py",
   "mimetype": "text/x-python",
   "name": "python",
   "nbconvert_exporter": "python",
   "pygments_lexer": "ipython3",
   "version": "3.7.5"
  }
 },
 "nbformat": 4,
 "nbformat_minor": 5
}
